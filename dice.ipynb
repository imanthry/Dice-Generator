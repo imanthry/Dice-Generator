{
 "cells": [
  {
   "cell_type": "code",
   "execution_count": 1,
   "metadata": {},
   "outputs": [
    {
     "name": "stdout",
     "output_type": "stream",
     "text": [
      "6\n",
      "3\n",
      "3\n",
      "4\n",
      "4\n"
     ]
    }
   ],
   "source": [
    "import random \n",
    "leave = False\n",
    "while leave == False:\n",
    "    print(random.randint(1,6))\n",
    "    again = input(\"Would you like to roll again? (answer Y to continue or any other character to exit)\")\n",
    "    if again != \"Y\":\n",
    "        leave = True\n",
    "\n",
    "\n",
    "    "
   ]
  }
 ],
 "metadata": {
  "kernelspec": {
   "display_name": "Python 3",
   "language": "python",
   "name": "python3"
  },
  "language_info": {
   "codemirror_mode": {
    "name": "ipython",
    "version": 3
   },
   "file_extension": ".py",
   "mimetype": "text/x-python",
   "name": "python",
   "nbconvert_exporter": "python",
   "pygments_lexer": "ipython3",
   "version": "3.11.1"
  },
  "orig_nbformat": 4,
  "vscode": {
   "interpreter": {
    "hash": "cc027e6809c907dfa06370255038e891bf88f94b01435d59ee112e97588e3a57"
   }
  }
 },
 "nbformat": 4,
 "nbformat_minor": 2
}
